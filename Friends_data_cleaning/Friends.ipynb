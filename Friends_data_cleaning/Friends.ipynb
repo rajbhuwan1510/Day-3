{
 "cells": [
  {
   "cell_type": "code",
   "execution_count": 1,
   "id": "2772cdb6",
   "metadata": {},
   "outputs": [],
   "source": [
    "import pandas as pd"
   ]
  },
  {
   "cell_type": "code",
   "execution_count": 14,
   "id": "e2112a77",
   "metadata": {},
   "outputs": [
    {
     "name": "stdout",
     "output_type": "stream",
     "text": [
      "Before Data Cleaning\n",
      "| Unnamed: 0   | fname   | lname      | age_sex   | section   | height(cm)   | weight(kg)   | age   | spend_A   | spend_B   | spend_C   |\n",
      "|:-------------|:--------|:-----------|:----------|:----------|:-------------|:-------------|:------|:----------|:----------|:----------|\n",
      "| 0            | Rahul   | Pandey     | 37_M      | B         | 175.4        | 85.6         | 37    | 1500      | 200       | 300       |\n",
      "| 1            | Rakesh  | Kumar      | 38_M      | B         | nan          | xx           | 38    | nan       | 1000      | nan       |\n",
      "| 2            | Nitesh  | Mondol     | 35_M      | B         | 165.1        | ?            | 35    | 500       | -100      | 200       |\n",
      "| 3            | Arvind  | Dwivedi    | 40_M      | A         | 0            | 55.6         | 40    | 300       | 300       | nan       |\n",
      "| 4            | Nikhil  | Shikharwar | 39_M      | B         | 160.8        | 160          | 39    | 200       | nan       | 300       |\n",
      "\n",
      "After Data Cleaning\n",
      "| fname   | lname      | age_sex   | age   | sex   | section   | height(cm)   | weight(kg)   | spend_A   | spend_B   | spend_C   |\n",
      "|:--------|:-----------|:----------|:------|:------|:----------|:-------------|:-------------|:----------|:----------|:----------|\n",
      "| Rahul   | Pandey     | 37_M      | 37    | M     | B         | 175.4        | 85.6         | 1500      | 200       | 300       |\n",
      "| Rakesh  | Kumar      | 38_M      | 38    | M     | B         | nan          | nan          | nan       | 1000      | nan       |\n",
      "| Nitesh  | Mondol     | 35_M      | 35    | M     | B         | 165.1        | nan          | 500       | -100      | 200       |\n",
      "| Arvind  | Dwivedi    | 40_M      | 40    | M     | A         | nan          | 55.6         | 300       | 300       | nan       |\n",
      "| Nikhil  | Shikharwar | 39_M      | 39    | M     | B         | 160.8        | 160          | 200       | nan       | 300       |\n"
     ]
    }
   ],
   "source": [
    "# Read csv file into a Pandas DataFrame\n",
    "df = pd.read_csv(r\"C:\\Users\\rajbh\\Downloads\\friends.csv\")\n",
    "\n",
    "#displaying dataset before Cleaning\n",
    "print(\"Before Data Cleaning\")\n",
    "print(df.head().to_markdown(index=False,numalign=\"left\",stralign=\"left\"))\n",
    "\n",
    "# Handle invalid values by converting them to NaN\n",
    "df['height(cm)'] = df['height(cm)'].replace('xx', pd.NA)\n",
    "df['height(cm)'] = df['height(cm)'].replace('0', pd.NA)\n",
    "df['weight(kg)'] = df['weight(kg)'].replace('xx', pd.NA)\n",
    "df['weight(kg)'] = df['weight(kg)'].replace('?', pd.NA)\n",
    "df['spend_C'] = df['spend_C'].replace('xx', pd.NA)\n",
    "df['weight(kg)'] = pd.to_numeric(df['weight(kg)'], errors='coerce')\n",
    "df['height(cm)'] = pd.to_numeric(df['height(cm)'], errors='coerce')\n",
    "\n",
    "\n",
    "# Split 'age_sex' column into 'age' and 'sex'\n",
    "df[['age', 'sex']] = df['age_sex'].str.split('_', expand=True)\n",
    "\n",
    "# Reorder the column labels\n",
    "df = df[['fname', 'lname', 'age_sex', 'age', 'sex', 'section', 'height(cm)', 'weight(kg)', 'spend_A', 'spend_B', 'spend_C']]\n",
    "\n",
    "#displaying dataset before Cleaning\n",
    "print(\"\\nAfter Data Cleaning\")\n",
    "print(df.head().to_markdown(index=False,numalign=\"left\",stralign=\"left\"))"
   ]
  },
  {
   "cell_type": "code",
   "execution_count": null,
   "id": "13c28f55",
   "metadata": {},
   "outputs": [],
   "source": []
  }
 ],
 "metadata": {
  "kernelspec": {
   "display_name": "Python 3 (ipykernel)",
   "language": "python",
   "name": "python3"
  },
  "language_info": {
   "codemirror_mode": {
    "name": "ipython",
    "version": 3
   },
   "file_extension": ".py",
   "mimetype": "text/x-python",
   "name": "python",
   "nbconvert_exporter": "python",
   "pygments_lexer": "ipython3",
   "version": "3.11.5"
  }
 },
 "nbformat": 4,
 "nbformat_minor": 5
}
